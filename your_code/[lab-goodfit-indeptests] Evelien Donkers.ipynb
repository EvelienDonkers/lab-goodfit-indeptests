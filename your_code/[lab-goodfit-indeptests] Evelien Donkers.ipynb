{
 "cells": [
  {
   "cell_type": "code",
   "execution_count": 1,
   "metadata": {},
   "outputs": [],
   "source": [
    "from scipy.stats import poisson\n",
    "import matplotlib.pyplot as plt\n",
    "import scipy\n",
    "import numpy as np\n",
    "import pandas as pd\n",
    "from scipy import stats\n",
    "from math import pow\n",
    "from scipy.stats import chi2"
   ]
  },
  {
   "cell_type": "markdown",
   "metadata": {},
   "source": [
    "## Question 1\n",
    "The following table indicates the number of 6-point scores in an American rugby match in the 1979 season.\n",
    "\n",
    "![](table1.png)\n",
    "\n",
    "Based on these results, we create a Poisson distribution with the sample mean parameter  = 2.435. Is there any reason to believe that at a .05 level the number of scores is a Poisson variable?"
   ]
  },
  {
   "cell_type": "code",
   "execution_count": 2,
   "metadata": {},
   "outputs": [],
   "source": [
    "#x = list(range(len(x)))\n",
    "y = [35,99,104,110,62,25,10,3]\n",
    "t = 448\n",
    "mu =2.435"
   ]
  },
  {
   "cell_type": "code",
   "execution_count": 3,
   "metadata": {},
   "outputs": [
    {
     "data": {
      "text/plain": [
       "[39.0, 96.0, 116.0, 94.0, 57.0, 28.0]"
      ]
     },
     "execution_count": 3,
     "metadata": {},
     "output_type": "execute_result"
    }
   ],
   "source": [
    "Poisson2  = [(poisson.pmf(i, mu)*t).round(0) for i in range(0,6)]\n",
    "Poisson2 "
   ]
  },
  {
   "cell_type": "code",
   "execution_count": null,
   "metadata": {},
   "outputs": [],
   "source": []
  },
  {
   "cell_type": "code",
   "execution_count": 4,
   "metadata": {
    "scrolled": true
   },
   "outputs": [
    {
     "data": {
      "text/plain": [
       "[39.0, 96.0, 116.0, 94.0, 57.0, 28.0, 11.0]"
      ]
     },
     "execution_count": 4,
     "metadata": {},
     "output_type": "execute_result"
    }
   ],
   "source": [
    "Poisson2  = [(poisson.pmf(i, mu)*t).round(0) for i in range(0,7)] \n",
    "Poisson2"
   ]
  },
  {
   "cell_type": "code",
   "execution_count": 5,
   "metadata": {
    "scrolled": true
   },
   "outputs": [
    {
     "data": {
      "text/plain": [
       "7.0"
      ]
     },
     "execution_count": 5,
     "metadata": {},
     "output_type": "execute_result"
    }
   ],
   "source": [
    "value_7_or_more = t - sum(Poisson2)\n",
    "value_7_or_more"
   ]
  },
  {
   "cell_type": "code",
   "execution_count": 6,
   "metadata": {},
   "outputs": [
    {
     "data": {
      "text/plain": [
       "[39.0, 96.0, 116.0, 94.0, 57.0, 28.0, 11.0, 7.0]"
      ]
     },
     "execution_count": 6,
     "metadata": {},
     "output_type": "execute_result"
    }
   ],
   "source": [
    "Poisson2.append(value_7_or_more)\n",
    "Poisson2"
   ]
  },
  {
   "cell_type": "code",
   "execution_count": 7,
   "metadata": {
    "scrolled": true
   },
   "outputs": [
    {
     "data": {
      "text/html": [
       "<div>\n",
       "<style scoped>\n",
       "    .dataframe tbody tr th:only-of-type {\n",
       "        vertical-align: middle;\n",
       "    }\n",
       "\n",
       "    .dataframe tbody tr th {\n",
       "        vertical-align: top;\n",
       "    }\n",
       "\n",
       "    .dataframe thead th {\n",
       "        text-align: right;\n",
       "    }\n",
       "</style>\n",
       "<table border=\"1\" class=\"dataframe\">\n",
       "  <thead>\n",
       "    <tr style=\"text-align: right;\">\n",
       "      <th></th>\n",
       "      <th>Expected</th>\n",
       "      <th>Real value</th>\n",
       "    </tr>\n",
       "  </thead>\n",
       "  <tbody>\n",
       "    <tr>\n",
       "      <th>0</th>\n",
       "      <td>39.0</td>\n",
       "      <td>35</td>\n",
       "    </tr>\n",
       "    <tr>\n",
       "      <th>1</th>\n",
       "      <td>96.0</td>\n",
       "      <td>99</td>\n",
       "    </tr>\n",
       "    <tr>\n",
       "      <th>2</th>\n",
       "      <td>116.0</td>\n",
       "      <td>104</td>\n",
       "    </tr>\n",
       "    <tr>\n",
       "      <th>3</th>\n",
       "      <td>94.0</td>\n",
       "      <td>110</td>\n",
       "    </tr>\n",
       "    <tr>\n",
       "      <th>4</th>\n",
       "      <td>57.0</td>\n",
       "      <td>62</td>\n",
       "    </tr>\n",
       "    <tr>\n",
       "      <th>5</th>\n",
       "      <td>28.0</td>\n",
       "      <td>25</td>\n",
       "    </tr>\n",
       "    <tr>\n",
       "      <th>6</th>\n",
       "      <td>11.0</td>\n",
       "      <td>10</td>\n",
       "    </tr>\n",
       "    <tr>\n",
       "      <th>7</th>\n",
       "      <td>7.0</td>\n",
       "      <td>3</td>\n",
       "    </tr>\n",
       "  </tbody>\n",
       "</table>\n",
       "</div>"
      ],
      "text/plain": [
       "   Expected  Real value\n",
       "0      39.0          35\n",
       "1      96.0          99\n",
       "2     116.0         104\n",
       "3      94.0         110\n",
       "4      57.0          62\n",
       "5      28.0          25\n",
       "6      11.0          10\n",
       "7       7.0           3"
      ]
     },
     "execution_count": 7,
     "metadata": {},
     "output_type": "execute_result"
    }
   ],
   "source": [
    "p_df = pd.DataFrame({'Expected': Poisson2, 'Real value': y })\n",
    "p_df"
   ]
  },
  {
   "cell_type": "code",
   "execution_count": 8,
   "metadata": {},
   "outputs": [],
   "source": [
    "observed_values = np.array([35,99,104,110,62,25,10,3])\n",
    "mu = 2.435 \n",
    "prob = [stats.poisson.pmf(i, mu) for i in range(len(observed_values)-1)]\n",
    "prob.append(1-sum(prob))\n",
    "f_exp = [p * sum (observed_values) for p in prob]\n",
    "p_value = stats.chisquare(observed_values, f_exp=f_exp)[1]\n",
    "chi_2_dit_is_je_uitgangs_waarde = stats.chisquare(observed_values, f_exp=f_exp)[0]"
   ]
  },
  {
   "cell_type": "code",
   "execution_count": 9,
   "metadata": {},
   "outputs": [
    {
     "name": "stdout",
     "output_type": "stream",
     "text": [
      "0.4836889068537269\n",
      "6.491310681109821\n"
     ]
    }
   ],
   "source": [
    "print (p_value)\n",
    "print (chi_2_dit_is_je_uitgangs_waarde)\n",
    "stats.chisquare(observed_values, f_exp=f_exp)\n",
    "sum(pow(f_exp[i]-observed_values[i],2)/f_exp[i] for i in range(len(observed_values)))\n",
    "critical_value = chi2.ppf(q=1-0.05, df=len(observed_values)-1-1)"
   ]
  },
  {
   "cell_type": "code",
   "execution_count": 10,
   "metadata": {},
   "outputs": [
    {
     "data": {
      "text/plain": [
       "12.591587243743977"
      ]
     },
     "execution_count": 10,
     "metadata": {},
     "output_type": "execute_result"
    }
   ],
   "source": [
    "critical_value_verlijk_het_hier_mee = chi2.ppf(q=1-0.05, df=len(observed_values)-1-1)\n",
    "critical_value_verlijk_het_hier_mee"
   ]
  },
  {
   "cell_type": "code",
   "execution_count": 11,
   "metadata": {},
   "outputs": [],
   "source": [
    "#p > a = reject H0 in dit geval het is een poison.\n",
    "#P < a = Niet reject H0"
   ]
  },
  {
   "cell_type": "markdown",
   "metadata": {},
   "source": [
    "## Question 2\n",
    "The following are the ordered values of a random sample of SAT scores (university entrance exam) for several students: 852, 875, 910, 933, 957, 963, 981, 998, 1010, 1015, 1018, 1023, 1035, 1048, 1063. In previous years, the scores were presented by N (985,50). Based on the sample, is there any reason to believe that there has been a change in the distribution of scores this year? Use the level alpha = 0.05. "
   ]
  },
  {
   "cell_type": "code",
   "execution_count": 12,
   "metadata": {},
   "outputs": [],
   "source": [
    "x =  np.array([852, 875, 910, 933, 957, 963, 981, 998, 1010, 1015, 1018, 1023, 1035, 1048, 1063])\n",
    "N = 985.5\n",
    "a = 0.05"
   ]
  },
  {
   "cell_type": "code",
   "execution_count": 13,
   "metadata": {},
   "outputs": [
    {
     "name": "stderr",
     "output_type": "stream",
     "text": [
      "C:\\Users\\eveli\\Anaconda3\\lib\\site-packages\\scipy\\stats\\stats.py:4653: RuntimeWarning: divide by zero encountered in true_divide\n",
      "  terms = (f_obs - f_exp)**2 / f_exp\n"
     ]
    }
   ],
   "source": [
    "mu = N\n",
    "prob = [stats.poisson.pmf(i, mu) for i in range(len(x)-1)]\n",
    "prob.append(1-sum(prob))\n",
    "f_exp = [p * sum (x) for p in prob]\n",
    "p_value = stats.chisquare(x, f_exp=f_exp)[1]\n",
    "chi_2_dit_is_je_uitgangs_waarde = stats.chisquare(x, f_exp=f_exp)[0]"
   ]
  },
  {
   "cell_type": "code",
   "execution_count": 14,
   "metadata": {},
   "outputs": [
    {
     "name": "stdout",
     "output_type": "stream",
     "text": [
      "0.0\n",
      "inf\n"
     ]
    },
    {
     "name": "stderr",
     "output_type": "stream",
     "text": [
      "C:\\Users\\eveli\\Anaconda3\\lib\\site-packages\\ipykernel_launcher.py:4: RuntimeWarning: divide by zero encountered in double_scalars\n",
      "  after removing the cwd from sys.path.\n"
     ]
    }
   ],
   "source": [
    "print (p_value)\n",
    "print (chi_2_dit_is_je_uitgangs_waarde)\n",
    "stats.chisquare(x, f_exp=f_exp)\n",
    "sum(pow(f_exp[i]-x[i],2)/f_exp[i] for i in range(len(x)))\n",
    "critical_value = chi2.ppf(q=1-a, df=len(x)-1-1)"
   ]
  },
  {
   "cell_type": "code",
   "execution_count": 15,
   "metadata": {},
   "outputs": [
    {
     "data": {
      "text/plain": [
       "22.362032494826934"
      ]
     },
     "execution_count": 15,
     "metadata": {},
     "output_type": "execute_result"
    }
   ],
   "source": [
    "critical_value_verlijk_het_hier_mee = chi2.ppf(q=1-0.05, df=len(x)-1-1)\n",
    "critical_value_verlijk_het_hier_mee"
   ]
  },
  {
   "cell_type": "code",
   "execution_count": 16,
   "metadata": {},
   "outputs": [
    {
     "data": {
      "text/plain": [
       "'\"No there is not while the critical value is 6.49 and that is way lower then 22.36, but the P value is lower than\\n0.05 so it could also be different.'"
      ]
     },
     "execution_count": 16,
     "metadata": {},
     "output_type": "execute_result"
    }
   ],
   "source": [
    "\"\"\"\"Yes, while the critical value is infinite and that is thus higher 22.36, but the P value is lower than\n",
    "0.05 so it could also be different.\"\"\""
   ]
  },
  {
   "cell_type": "markdown",
   "metadata": {},
   "source": [
    "## Question 3\n",
    "Let's analyze a discrete distribution. To analyze the number of defective items in a factory in the city of Medellín, we took a random sample of n = 60 articles and observed the number of defectives in the following table:\n",
    "\n",
    "![](table4.png)\n",
    "\n",
    "A poissón distribution was proposed since it is defined for x = 0,1,2,3, .... using the following model:\n",
    "\n",
    "![](image1.png)\n",
    "\n",
    "Does the distribution of defective items follow this distribution?"
   ]
  },
  {
   "cell_type": "code",
   "execution_count": 17,
   "metadata": {},
   "outputs": [],
   "source": [
    "x =  np.array([32, 15, 9, 4]) \n",
    "mu = ((0*32)+ (15*1) + (3*9) + (4*4)) / 60\n",
    "a = 0.05"
   ]
  },
  {
   "cell_type": "code",
   "execution_count": 18,
   "metadata": {},
   "outputs": [],
   "source": [
    "mu = mu\n",
    "prob = [stats.poisson.pmf(i, mu) for i in range(len(x)-1)]\n",
    "prob.append(1-sum(prob))\n",
    "f_exp = [p * sum (x) for p in prob]\n",
    "p_value = stats.chisquare(x, f_exp=f_exp)[1]\n",
    "chi_2_dit_is_je_uitgangs_waarde = stats.chisquare(x, f_exp=f_exp)[0]"
   ]
  },
  {
   "cell_type": "code",
   "execution_count": 19,
   "metadata": {},
   "outputs": [
    {
     "name": "stdout",
     "output_type": "stream",
     "text": [
      "0.09973065660227237\n",
      "6.25754665511885\n"
     ]
    },
    {
     "data": {
      "text/plain": [
       "5.991464547107979"
      ]
     },
     "execution_count": 19,
     "metadata": {},
     "output_type": "execute_result"
    }
   ],
   "source": [
    "print (p_value)\n",
    "print (chi_2_dit_is_je_uitgangs_waarde)\n",
    "stats.chisquare(x, f_exp=f_exp)\n",
    "sum(pow(f_exp[i]-x[i],2)/f_exp[i] for i in range(len(x)))\n",
    "critical_value = chi2.ppf(q=1-a, df=len(x)-1-1)\n",
    "critical_value_verlijk_het_hier_mee = chi2.ppf(q=1-0.05, df=len(x)-1-1)\n",
    "critical_value_verlijk_het_hier_mee"
   ]
  },
  {
   "cell_type": "code",
   "execution_count": 26,
   "metadata": {},
   "outputs": [
    {
     "data": {
      "text/plain": [
       "'\"No it doesn\\'t while the p value is higher then 0.05 and the chi value of 6.25 is higher then the critical value of 5.99'"
      ]
     },
     "execution_count": 26,
     "metadata": {},
     "output_type": "execute_result"
    }
   ],
   "source": [
    "\"\"\"\"No it doesn't while the p value is higher then 0.05 and the chi value of 6.25 is higher then the critical value of 5.99\"\"\""
   ]
  },
  {
   "cell_type": "markdown",
   "metadata": {},
   "source": [
    "## Question 4\n",
    "A quality control engineer takes a sample of 10 tires that come out of an assembly line, and would like to verify on the basis of the data that follows, if the number of tires with defects observed over 200 days, if it is true that 5% of all tires have defects (that is, if the sample comes from a binomial population with n = 10 and p = 0.05). \n",
    "\n",
    "![](table6.png)\n"
   ]
  },
  {
   "cell_type": "code",
   "execution_count": 2,
   "metadata": {},
   "outputs": [],
   "source": [
    "mu = ((0*138)+ (53*1) + (9*2)) / (138+53+9)\n",
    "x = np.array([138, 53, 9])\n",
    "p = 0.05"
   ]
  },
  {
   "cell_type": "code",
   "execution_count": 3,
   "metadata": {},
   "outputs": [],
   "source": [
    "prob = [stats.poisson.pmf(i, mu) for i in range(len(x)-1)]\n",
    "prob.append(1-sum(prob))\n",
    "f_exp = [p * sum (x) for p in prob]\n",
    "p_value = stats.chisquare(x, f_exp=f_exp)[1]\n",
    "chi_2_dit_is_je_uitgangs_waarde = stats.chisquare(x, f_exp=f_exp)[0]"
   ]
  },
  {
   "cell_type": "code",
   "execution_count": 4,
   "metadata": {},
   "outputs": [
    {
     "name": "stdout",
     "output_type": "stream",
     "text": [
      "0.8436402260062308\n",
      "0.3400582955411946\n"
     ]
    },
    {
     "data": {
      "text/plain": [
       "3.841458820694124"
      ]
     },
     "execution_count": 4,
     "metadata": {},
     "output_type": "execute_result"
    }
   ],
   "source": [
    "print (p_value)\n",
    "print (chi_2_dit_is_je_uitgangs_waarde)\n",
    "stats.chisquare(x, f_exp=f_exp)\n",
    "sum(pow(f_exp[i]-x[i],2)/f_exp[i] for i in range(len(x)))\n",
    "critical_value = chi2.ppf(q=1-p, df=len(x)-1-1)\n",
    "critical_value_verlijk_het_hier_mee = chi2.ppf(q=1-0.05, df=len(x)-1-1)\n",
    "critical_value_verlijk_het_hier_mee"
   ]
  },
  {
   "cell_type": "code",
   "execution_count": 24,
   "metadata": {},
   "outputs": [
    {
     "data": {
      "text/plain": [
       "'\"No it doesn\\'t while the p value is higher then 0.05 and the chi value of 6.49 is higher then the critical value of 5.99'"
      ]
     },
     "execution_count": 24,
     "metadata": {},
     "output_type": "execute_result"
    }
   ],
   "source": [
    "\"\"\"\"No it doesn't while the p value is higher then 0.05 and the chi value of 0.34 is lower then the critical value of 3.84\"\"\""
   ]
  },
  {
   "cell_type": "markdown",
   "metadata": {},
   "source": [
    "## Question 5\n",
    "A researcher gathers information about the patterns of physical activity (AF) of children in the fifth grade of primary school of a public school. He defines three categories of physical activity (1 = Low, 2 = Medium, 3 = High). He also inquires about the regular consumption of sugary drinks at school, and defines two categories (1 = consumed, 0 = not consumed). We would like to evaluate if there is an association between patterns of physical activity and the consumption of sugary drinks for the children of this school, at a level of 5% significance. The results are in the following table: \n",
    "\n",
    "![](table5.png)"
   ]
  },
  {
   "cell_type": "code",
   "execution_count": 8,
   "metadata": {},
   "outputs": [
    {
     "data": {
      "text/html": [
       "<div>\n",
       "<style scoped>\n",
       "    .dataframe tbody tr th:only-of-type {\n",
       "        vertical-align: middle;\n",
       "    }\n",
       "\n",
       "    .dataframe tbody tr th {\n",
       "        vertical-align: top;\n",
       "    }\n",
       "\n",
       "    .dataframe thead th {\n",
       "        text-align: right;\n",
       "    }\n",
       "</style>\n",
       "<table border=\"1\" class=\"dataframe\">\n",
       "  <thead>\n",
       "    <tr style=\"text-align: right;\">\n",
       "      <th></th>\n",
       "      <th>Sugar</th>\n",
       "      <th>No-Sugar</th>\n",
       "      <th>Total</th>\n",
       "    </tr>\n",
       "  </thead>\n",
       "  <tbody>\n",
       "    <tr>\n",
       "      <th>Low</th>\n",
       "      <td>32</td>\n",
       "      <td>12</td>\n",
       "      <td>44</td>\n",
       "    </tr>\n",
       "    <tr>\n",
       "      <th>Med</th>\n",
       "      <td>14</td>\n",
       "      <td>22</td>\n",
       "      <td>36</td>\n",
       "    </tr>\n",
       "    <tr>\n",
       "      <th>High</th>\n",
       "      <td>6</td>\n",
       "      <td>9</td>\n",
       "      <td>15</td>\n",
       "    </tr>\n",
       "    <tr>\n",
       "      <th>Total</th>\n",
       "      <td>52</td>\n",
       "      <td>43</td>\n",
       "      <td>95</td>\n",
       "    </tr>\n",
       "  </tbody>\n",
       "</table>\n",
       "</div>"
      ],
      "text/plain": [
       "       Sugar  No-Sugar  Total\n",
       "Low       32        12     44\n",
       "Med       14        22     36\n",
       "High       6         9     15\n",
       "Total     52        43     95"
      ]
     },
     "execution_count": 8,
     "metadata": {},
     "output_type": "execute_result"
    }
   ],
   "source": [
    "Low = np.array([32,12,44])\n",
    "Med = np.array([14,22,36])\n",
    "High = np.array([6,9,15])\n",
    "Total = np.array([52,43,95])\n",
    "sugar = [\"Sugar\",\"No-Sugar\",\"Total\"]\n",
    "AF = [\"Low\",\"Med\",\"High\",\"Total\"]\n",
    "tabel = pd.DataFrame((Low,Med,High,Total),index=AF, columns=sugar)\n",
    "tabel"
   ]
  },
  {
   "cell_type": "code",
   "execution_count": 24,
   "metadata": {},
   "outputs": [
    {
     "data": {
      "text/plain": [
       "(10.712198008709638,\n",
       " 0.09768908598416433,\n",
       " 6,\n",
       " array([[24.08421053, 19.91578947, 44.        ],\n",
       "        [19.70526316, 16.29473684, 36.        ],\n",
       "        [ 8.21052632,  6.78947368, 15.        ],\n",
       "        [52.        , 43.        , 95.        ]]))"
      ]
     },
     "execution_count": 24,
     "metadata": {},
     "output_type": "execute_result"
    }
   ],
   "source": [
    "stats.chi2_contingency(tabel)\n",
    "#chi2.ppf(q=1-0.05, df=len(tabel)-1)"
   ]
  },
  {
   "cell_type": "code",
   "execution_count": null,
   "metadata": {},
   "outputs": [],
   "source": [
    "\"\"\"\"We reject H0 while the P value is 0.098\"\"\"\""
   ]
  }
 ],
 "metadata": {
  "kernelspec": {
   "display_name": "Python 3",
   "language": "python",
   "name": "python3"
  },
  "language_info": {
   "codemirror_mode": {
    "name": "ipython",
    "version": 3
   },
   "file_extension": ".py",
   "mimetype": "text/x-python",
   "name": "python",
   "nbconvert_exporter": "python",
   "pygments_lexer": "ipython3",
   "version": "3.7.3"
  }
 },
 "nbformat": 4,
 "nbformat_minor": 2
}
